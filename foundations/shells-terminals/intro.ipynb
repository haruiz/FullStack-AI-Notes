{
 "cells": [
  {
   "cell_type": "raw",
   "metadata": {},
   "source": [
    "---\n",
    "title: \"Terminals, Shells and Command Line Tools\"\n",
    "format: html\n",
    "---"
   ]
  },
  {
   "cell_type": "markdown",
   "metadata": {
    "vscode": {
     "languageId": "python"
    }
   },
   "source": [
    "## Terminals\n",
    "\n",
    "A `terminal` is a text-based interface software that allows you to interact and give instructions to your computer from a nongraphical interface. Every operating system generally has its implementation of a terminal and comes with a set of `built-in` commands to perform various tasks.For example, in Windows, you can use the command prompt or PowerShell; in Mac and Linux, you can use the terminal. In the open-source world, there are also other alternatives, such as `oh-my-zsh,` `tmux,` `fish,` etc.\n",
    "\n",
    "Some of the most common commands you can run in a terminal are:\n",
    "\n",
    "- `cd` - change directory.\n",
    "- `ls` - list files and directories.\n",
    "- `mkdir` - create a new directory.\n",
    "- `rm` - remove files or directories.\n",
    "- `cp` - copy files or directories.\n",
    "- `mv` - move files or directories.\n",
    "- `cat` - concatenate and display files.\n",
    "- `grep` - search for a specific pattern in a file.\n",
    "\n",
    "Some of those commands are standard across all operating systems, while others are specific to a particular operating system.For example, the `ls` command is used to list files and directories in Linux and macOS, while the `dir` command is used for the same purpose in Windows.\n",
    "\n",
    "\n",
    "## Command Line Tools\n",
    "\n",
    "A ` command line tool`, is a software you install in your computer that gives you access to an extra set of commands to perform specific tasks. Command line tools are widely used for a variety of purposes, including file management, software development, system administration, and network operations. Some examples of command line tools are:\n",
    "\n",
    "- `git` - a distributed version control system for tracking changes in source code during software development.\n",
    "- `npm` - a package manager for the JavaScript programming language.\n",
    "- `pip` - a package installer for Python.\n",
    "- `brew` - a package manager for macOS.\n",
    "\n",
    "\n",
    "## Some useful links\n",
    "\n",
    "- [Command Line Interface](https://en.wikipedia.org/wiki/Command-line_interface)\n",
    "- [Command Line Tools](https://en.wikipedia.org/wiki/Command-line_interface#Command-line_tools)\n",
    "- [Terminal (macOS)](https://en.wikipedia.org/wiki/Terminal_(macOS))\n",
    "- [Command Prompt](https://en.wikipedia.org/wiki/Cmd.exe)\n",
    "- [PowerShell](https://en.wikipedia.org/wiki/PowerShell)\n",
    "- [oh-my-zsh](https://ohmyz.sh/)\n",
    "- [fish](https://fishshell.com/)\n",
    "- [windows commands cheat sheet](https://www.thomas-krenn.com/en/wiki/Cmd_commands_under_Windows)\n",
    "- [linux commands cheat sheet](https://www.cheatography.com/davechild/cheat-sheets/linux-command-line/)\n",
    "- [macOS commands cheat sheet](https://github.com/0nn0/terminal-mac-cheatsheet/tree/master/Espa%C3%B1ol)"
   ]
  }
 ],
 "metadata": {
  "language_info": {
   "name": "python"
  }
 },
 "nbformat": 4,
 "nbformat_minor": 2
}
